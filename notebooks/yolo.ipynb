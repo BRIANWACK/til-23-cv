{
 "cells": [
  {
   "cell_type": "code",
   "execution_count": 4,
   "metadata": {},
   "outputs": [
    {
     "name": "stdout",
     "output_type": "stream",
     "text": [
      "/home/jh/code/til/til-23-cv\n"
     ]
    }
   ],
   "source": [
    "import os\n",
    "if os.path.basename(os.getcwd()) == \"notebooks\":\n",
    "    os.chdir(\"..\")\n",
    "%cd .\n",
    "%load_ext autoreload\n",
    "%autoreload 2"
   ]
  },
  {
   "cell_type": "code",
   "execution_count": 5,
   "metadata": {},
   "outputs": [],
   "source": [
    "from ultralytics import YOLO\n",
    "from PIL import Image\n",
    "from time import sleep\n",
    "\n",
    "model = YOLO(\"yolov5x6u.pt\")"
   ]
  },
  {
   "cell_type": "code",
   "execution_count": null,
   "metadata": {},
   "outputs": [],
   "source": [
    "result = model.predict(\n",
    "    \"http://farm5.staticflickr.com/4032/5134536454_184138d8b1_z.jpg\",\n",
    "    half=True,\n",
    "    device=\"cuda:0\",\n",
    ")"
   ]
  },
  {
   "cell_type": "code",
   "execution_count": null,
   "metadata": {},
   "outputs": [],
   "source": [
    "def imshow(arr):\n",
    "    display(Image.fromarray(arr[..., ::-1]))\n",
    "\n",
    "\n",
    "imshow(result[0].plot())"
   ]
  },
  {
   "cell_type": "code",
   "execution_count": null,
   "metadata": {},
   "outputs": [],
   "source": [
    "model.clear_callback(\"on_train_batch_end\")\n",
    "model.train(cfg=\"cfg/yolov5x6u_mvp.yaml\")"
   ]
  },
  {
   "attachments": {},
   "cell_type": "markdown",
   "metadata": {},
   "source": [
    "### Preview Augmentations"
   ]
  },
  {
   "cell_type": "code",
   "execution_count": null,
   "metadata": {},
   "outputs": [],
   "source": [
    "def end_early(_):\n",
    "    raise KeyboardInterrupt\n",
    "\n",
    "model.add_callback(\"on_train_batch_end\", end_early)\n",
    "try:\n",
    "    model.train(\n",
    "        cfg=\"cfg/yolov5x6u_mvp.yaml\",\n",
    "        name=\"temp/temp\",\n",
    "        deterministic=True,\n",
    "        workers=2,\n",
    "        verbose=False,\n",
    "    )\n",
    "except KeyboardInterrupt:\n",
    "    pass\n",
    "sleep(1)\n",
    "for im in list(model.trainer.plots.keys()):\n",
    "    display(Image.open(im))"
   ]
  },
  {
   "cell_type": "code",
   "execution_count": null,
   "metadata": {},
   "outputs": [],
   "source": []
  }
 ],
 "metadata": {
  "kernelspec": {
   "display_name": "yolo",
   "language": "python",
   "name": "python3"
  },
  "language_info": {
   "codemirror_mode": {
    "name": "ipython",
    "version": 3
   },
   "file_extension": ".py",
   "mimetype": "text/x-python",
   "name": "python",
   "nbconvert_exporter": "python",
   "pygments_lexer": "ipython3",
   "version": "3.9.16"
  },
  "orig_nbformat": 4
 },
 "nbformat": 4,
 "nbformat_minor": 2
}

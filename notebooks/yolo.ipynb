{
 "cells": [
  {
   "cell_type": "code",
   "execution_count": 1,
   "metadata": {},
   "outputs": [
    {
     "name": "stdout",
     "output_type": "stream",
     "text": [
      "/home/jh/code/til/til-23-cv\n"
     ]
    }
   ],
   "source": [
    "import os\n",
    "if os.path.basename(os.getcwd()) == \"notebooks\":\n",
    "    os.chdir(\"..\")\n",
    "%cd .\n",
    "%load_ext autoreload\n",
    "%autoreload 2"
   ]
  },
  {
   "attachments": {},
   "cell_type": "markdown",
   "metadata": {},
   "source": [
    "## YOLO Object Detection\n"
   ]
  },
  {
   "cell_type": "code",
   "execution_count": 2,
   "metadata": {},
   "outputs": [],
   "source": [
    "from ultralytics import YOLO\n",
    "from PIL import Image\n",
    "from time import sleep"
   ]
  },
  {
   "cell_type": "code",
   "execution_count": 3,
   "metadata": {},
   "outputs": [],
   "source": [
    "model = YOLO(\"yolov5m6u.pt\")"
   ]
  },
  {
   "attachments": {},
   "cell_type": "markdown",
   "metadata": {},
   "source": [
    "### See Model\n"
   ]
  },
  {
   "cell_type": "code",
   "execution_count": null,
   "metadata": {},
   "outputs": [],
   "source": [
    "result = model.predict(\n",
    "    \"http://farm5.staticflickr.com/4032/5134536454_184138d8b1_z.jpg\",\n",
    "    half=True,\n",
    "    device=\"cuda:0\",\n",
    ")"
   ]
  },
  {
   "cell_type": "code",
   "execution_count": null,
   "metadata": {},
   "outputs": [],
   "source": [
    "def imshow(arr):\n",
    "    display(Image.fromarray(arr[..., ::-1]))\n",
    "\n",
    "\n",
    "imshow(result[0].plot())"
   ]
  },
  {
   "attachments": {},
   "cell_type": "markdown",
   "metadata": {},
   "source": [
    "### Preview Augmentations\n"
   ]
  },
  {
   "cell_type": "code",
   "execution_count": null,
   "metadata": {},
   "outputs": [],
   "source": [
    "def end_early(_):\n",
    "    raise KeyboardInterrupt\n",
    "\n",
    "tempmodel = YOLO(\"yolov8n.pt\")\n",
    "tempmodel.add_callback(\"on_train_batch_end\", end_early)\n",
    "try:\n",
    "    tempmodel.train(\n",
    "        cfg=\"cfg/custom.yaml\",\n",
    "        name=\"temp/temp\",\n",
    "        deterministic=True,\n",
    "        workers=0,\n",
    "        batch=9,\n",
    "        amp=False,\n",
    "        verbose=False,\n",
    "        device=\"cpu\",\n",
    "    )\n",
    "except KeyboardInterrupt:\n",
    "    pass\n",
    "sleep(1)\n",
    "for im in list(tempmodel.trainer.plots.keys())[1:]:\n",
    "    display(Image.open(im))"
   ]
  },
  {
   "attachments": {},
   "cell_type": "markdown",
   "metadata": {},
   "source": [
    "### Train Model\n"
   ]
  },
  {
   "cell_type": "code",
   "execution_count": null,
   "metadata": {},
   "outputs": [],
   "source": [
    "# TODO: See trained model perform on test split using eyeballs\n",
    "model.train(\n",
    "    cfg=\"cfg/custom.yaml\",\n",
    "    name=\"custom/yolov5m6u\",\n",
    "    workers=8,\n",
    "    batch=8,\n",
    ")"
   ]
  },
  {
   "cell_type": "code",
   "execution_count": null,
   "metadata": {},
   "outputs": [],
   "source": []
  }
 ],
 "metadata": {
  "kernelspec": {
   "display_name": "yolo",
   "language": "python",
   "name": "python3"
  },
  "language_info": {
   "codemirror_mode": {
    "name": "ipython",
    "version": 3
   },
   "file_extension": ".py",
   "mimetype": "text/x-python",
   "name": "python",
   "nbconvert_exporter": "python",
   "pygments_lexer": "ipython3",
   "version": "3.11.3"
  },
  "orig_nbformat": 4
 },
 "nbformat": 4,
 "nbformat_minor": 2
}

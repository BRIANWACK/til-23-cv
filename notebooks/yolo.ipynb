{
 "cells": [
  {
   "cell_type": "code",
   "execution_count": 1,
   "metadata": {},
   "outputs": [
    {
     "name": "stdout",
     "output_type": "stream",
     "text": [
      "/home/jh/code/til/til-23-cv\n"
     ]
    }
   ],
   "source": [
    "import os\n",
    "if os.path.basename(os.getcwd()) == \"notebooks\":\n",
    "    os.chdir(\"..\")\n",
    "%cd .\n",
    "# %load_ext autoreload\n",
    "# %autoreload 2"
   ]
  },
  {
   "cell_type": "code",
   "execution_count": 2,
   "metadata": {},
   "outputs": [
    {
     "name": "stdout",
     "output_type": "stream",
     "text": [
      "Not on competition platform, exiting...\n"
     ]
    }
   ],
   "source": [
    "%%sh\n",
    "./setup.sh"
   ]
  },
  {
   "attachments": {},
   "cell_type": "markdown",
   "metadata": {},
   "source": [
    "## YOLO Object Detection\n"
   ]
  },
  {
   "cell_type": "code",
   "execution_count": 3,
   "metadata": {},
   "outputs": [],
   "source": [
    "from ultralytics import YOLO\n",
    "from PIL import Image\n",
    "from time import sleep"
   ]
  },
  {
   "cell_type": "code",
   "execution_count": 4,
   "metadata": {},
   "outputs": [],
   "source": [
    "# NOTE: Run this cell as its needed for training later.\n",
    "model = YOLO(\"yolov5m6u.pt\")"
   ]
  },
  {
   "attachments": {},
   "cell_type": "markdown",
   "metadata": {},
   "source": [
    "### Playtest Model\n"
   ]
  },
  {
   "cell_type": "code",
   "execution_count": 5,
   "metadata": {},
   "outputs": [],
   "source": [
    "result = model.predict(\n",
    "    \"http://farm5.staticflickr.com/4032/5134536454_184138d8b1_z.jpg\",\n",
    "    half=True,\n",
    "    device=\"cuda:0\",\n",
    ")"
   ]
  },
  {
   "cell_type": "code",
   "execution_count": 6,
   "metadata": {},
   "outputs": [],
   "source": [
    "def imshow(arr):\n",
    "    display(Image.fromarray(arr[..., ::-1]))\n",
    "\n",
    "\n",
    "imshow(result[0].plot())"
   ]
  },
  {
   "attachments": {},
   "cell_type": "markdown",
   "metadata": {},
   "source": [
    "### Preview Augmentations\n",
    "\n",
    "This was used heavily to adjust augmentations."
   ]
  },
  {
   "cell_type": "code",
   "execution_count": 9,
   "metadata": {},
   "outputs": [],
   "source": [
    "def end_early(_):\n",
    "    raise KeyboardInterrupt\n",
    "\n",
    "\n",
    "tempmodel = YOLO(\"yolov8n.pt\")\n",
    "tempmodel.add_callback(\"on_train_batch_end\", end_early)\n",
    "try:\n",
    "    tempmodel.train(\n",
    "        cfg=\"cfg/custom.yaml\",\n",
    "        data=os.path.abspath(\"data/til23plushonly/dataset.yaml\"),\n",
    "        name=\"temp/temp\",\n",
    "        deterministic=True,\n",
    "        workers=0,\n",
    "        batch=9,\n",
    "        amp=False,\n",
    "        verbose=False,\n",
    "        device=\"cpu\",\n",
    "    )\n",
    "except KeyboardInterrupt:\n",
    "    pass\n",
    "sleep(1)\n",
    "for im in list(tempmodel.trainer.plots.keys())[1:]:\n",
    "    display(Image.open(im))\n"
   ]
  },
  {
   "attachments": {},
   "cell_type": "markdown",
   "metadata": {},
   "source": [
    "### Training\n",
    "\n",
    "See `notebooks/data.ipynb` for how to convert `til23plush` dataset to `til23plushonly`.\n"
   ]
  },
  {
   "cell_type": "code",
   "execution_count": null,
   "metadata": {},
   "outputs": [],
   "source": [
    "model.train(\n",
    "    cfg=\"cfg/custom.yaml\",\n",
    "    data=os.path.abspath(\"data/til23plushonly/dataset.yaml\"),\n",
    "    name=\"custom/yolov5m6u\",\n",
    "    workers=8,\n",
    "    batch=8,\n",
    ")"
   ]
  },
  {
   "attachments": {},
   "cell_type": "markdown",
   "metadata": {},
   "source": [
    "**NOTE: Above should produce `runs/detect/custom/yolov5m6u/weights/best.pt` which is used as `models/det.pt`!**"
   ]
  },
  {
   "attachments": {},
   "cell_type": "markdown",
   "metadata": {},
   "source": [
    "### Inference\n",
    "\n",
    "NOTE: This is for testing Object Detection and isn't the actual inference pipeline."
   ]
  },
  {
   "cell_type": "code",
   "execution_count": 5,
   "metadata": {},
   "outputs": [],
   "source": [
    "model_ckpt = \"models/det.pt\"\n",
    "im_root = \"data/til23plush/images\"\n",
    "split = \"val\""
   ]
  },
  {
   "cell_type": "code",
   "execution_count": 8,
   "metadata": {},
   "outputs": [],
   "source": [
    "model = YOLO(model_ckpt)"
   ]
  },
  {
   "cell_type": "code",
   "execution_count": null,
   "metadata": {},
   "outputs": [],
   "source": [
    "# NOTE: IT WILL APPEND TO EXISTING PREDICTIONS. MOVE CURRENT PREDICTIONS ELSEWHERE FIRST.\n",
    "model.fuse()\n",
    "results = model.predict(\n",
    "    source=os.path.join(im_root, split),\n",
    "    conf=0.7,\n",
    "    iou=0.7,\n",
    "    half=True,\n",
    "    save_txt=True,\n",
    "    save_conf=True,\n",
    "    device=\"cuda:0\",\n",
    "    imgsz=1280,\n",
    "    stream=True,\n",
    "    name=f\"predict/{split}\",\n",
    ")\n",
    "for _ in results:\n",
    "    pass"
   ]
  },
  {
   "cell_type": "code",
   "execution_count": null,
   "metadata": {},
   "outputs": [],
   "source": []
  }
 ],
 "metadata": {
  "kernelspec": {
   "display_name": "yolo",
   "language": "python",
   "name": "python3"
  },
  "language_info": {
   "codemirror_mode": {
    "name": "ipython",
    "version": 3
   },
   "file_extension": ".py",
   "mimetype": "text/x-python",
   "name": "python",
   "nbconvert_exporter": "python",
   "pygments_lexer": "ipython3",
   "version": "3.9.16"
  },
  "orig_nbformat": 4
 },
 "nbformat": 4,
 "nbformat_minor": 2
}

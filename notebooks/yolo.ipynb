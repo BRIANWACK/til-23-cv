{
 "cells": [
  {
   "cell_type": "code",
   "execution_count": 7,
   "metadata": {},
   "outputs": [
    {
     "name": "stdout",
     "output_type": "stream",
     "text": [
      "/home/jh/code/til/til-23-cv\n"
     ]
    }
   ],
   "source": [
    "import os\n",
    "if os.path.basename(os.getcwd()) == \"notebooks\":\n",
    "    os.chdir(\"..\")\n",
    "%cd .\n",
    "%load_ext autoreload\n",
    "%autoreload 2"
   ]
  },
  {
   "attachments": {},
   "cell_type": "markdown",
   "metadata": {},
   "source": [
    "## YOLO Object Detection\n"
   ]
  },
  {
   "cell_type": "code",
   "execution_count": 4,
   "metadata": {},
   "outputs": [],
   "source": [
    "from ultralytics import YOLO\n",
    "from PIL import Image\n",
    "from time import sleep\n",
    "from pathlib import Path"
   ]
  },
  {
   "cell_type": "code",
   "execution_count": 3,
   "metadata": {},
   "outputs": [],
   "source": [
    "model = YOLO(\"yolov5m6u.pt\")"
   ]
  },
  {
   "attachments": {},
   "cell_type": "markdown",
   "metadata": {},
   "source": [
    "### See Model\n"
   ]
  },
  {
   "cell_type": "code",
   "execution_count": null,
   "metadata": {},
   "outputs": [],
   "source": [
    "result = model.predict(\n",
    "    \"http://farm5.staticflickr.com/4032/5134536454_184138d8b1_z.jpg\",\n",
    "    half=True,\n",
    "    device=\"cuda:0\",\n",
    ")"
   ]
  },
  {
   "cell_type": "code",
   "execution_count": null,
   "metadata": {},
   "outputs": [],
   "source": [
    "def imshow(arr):\n",
    "    display(Image.fromarray(arr[..., ::-1]))\n",
    "\n",
    "\n",
    "imshow(result[0].plot())"
   ]
  },
  {
   "attachments": {},
   "cell_type": "markdown",
   "metadata": {},
   "source": [
    "### Preview Augmentations\n"
   ]
  },
  {
   "cell_type": "code",
   "execution_count": null,
   "metadata": {},
   "outputs": [],
   "source": [
    "def end_early(_):\n",
    "    raise KeyboardInterrupt\n",
    "\n",
    "tempmodel = YOLO(\"yolov8n.pt\")\n",
    "tempmodel.add_callback(\"on_train_batch_end\", end_early)\n",
    "try:\n",
    "    tempmodel.train(\n",
    "        cfg=\"cfg/custom.yaml\",\n",
    "        name=\"temp/temp\",\n",
    "        deterministic=True,\n",
    "        workers=0,\n",
    "        batch=9,\n",
    "        amp=False,\n",
    "        verbose=False,\n",
    "        device=\"cpu\",\n",
    "    )\n",
    "except KeyboardInterrupt:\n",
    "    pass\n",
    "sleep(1)\n",
    "for im in list(tempmodel.trainer.plots.keys())[1:]:\n",
    "    display(Image.open(im))"
   ]
  },
  {
   "attachments": {},
   "cell_type": "markdown",
   "metadata": {},
   "source": [
    "### Train Model\n"
   ]
  },
  {
   "cell_type": "code",
   "execution_count": null,
   "metadata": {},
   "outputs": [],
   "source": [
    "# TODO: See trained model perform on test split using eyeballs\n",
    "model.train(\n",
    "    cfg=\"cfg/custom.yaml\",\n",
    "    data=\"data/til23plushonly/dataset.yaml\",\n",
    "    name=\"custom/yolov5m6u\",\n",
    "    workers=8,\n",
    "    batch=8,\n",
    ")"
   ]
  },
  {
   "attachments": {},
   "cell_type": "markdown",
   "metadata": {},
   "source": [
    "### Validate Model"
   ]
  },
  {
   "cell_type": "code",
   "execution_count": 5,
   "metadata": {},
   "outputs": [],
   "source": [
    "# NOTE: `runs/detect/custom/yolov5m6u/weights/best.pt` was renamed to `custom_yolov5m6u_best.pt`.\n",
    "model_ckpt = \"custom_yolov5m6u_best.pt\"\n",
    "im_root = \"data/til23plush/images\"\n",
    "split = \"test\""
   ]
  },
  {
   "cell_type": "code",
   "execution_count": 8,
   "metadata": {},
   "outputs": [],
   "source": [
    "model = YOLO(model_ckpt)"
   ]
  },
  {
   "cell_type": "code",
   "execution_count": null,
   "metadata": {},
   "outputs": [],
   "source": [
    "# NOTE: IT WILL APPEND TO EXISTING PREDICTIONS. MOVE CURRENT PREDICTIONS ELSEWHERE FIRST.\n",
    "model.fuse()\n",
    "results = model.predict(\n",
    "    source=str(Path(im_root) / split),\n",
    "    conf=0.7,\n",
    "    iou=0.7,\n",
    "    half=True,\n",
    "    save_txt=True,\n",
    "    save_conf=True,\n",
    "    device=\"cuda:0\",\n",
    "    imgsz=1280,\n",
    "    stream=True,\n",
    "    name=f\"predict/{split}\",\n",
    ")\n",
    "for _ in results:\n",
    "    pass"
   ]
  },
  {
   "cell_type": "code",
   "execution_count": null,
   "metadata": {},
   "outputs": [],
   "source": []
  }
 ],
 "metadata": {
  "kernelspec": {
   "display_name": "yolo",
   "language": "python",
   "name": "python3"
  },
  "language_info": {
   "codemirror_mode": {
    "name": "ipython",
    "version": 3
   },
   "file_extension": ".py",
   "mimetype": "text/x-python",
   "name": "python",
   "nbconvert_exporter": "python",
   "pygments_lexer": "ipython3",
   "version": "3.9.16"
  },
  "orig_nbformat": 4
 },
 "nbformat": 4,
 "nbformat_minor": 2
}
